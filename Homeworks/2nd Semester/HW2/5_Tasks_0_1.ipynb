{
 "cells": [
  {
   "attachments": {},
   "cell_type": "markdown",
   "metadata": {},
   "source": [
    "# 1) setattr\n",
    "Объявите класс Book для представления информации о книге. Объекты этого класса должны создаваться командами:\n",
    "```\n",
    "book = Book()\n",
    "book = Book(название, автор, число страниц, год издания)\n",
    "```\n",
    "В каждом объекте класса Book автоматически должны формироваться следующие локальные свойства:\n",
    "\n",
    "title - заголовок книги (строка, по умолчанию пустая строка);\n",
    "author - автор книги (строка, по умолчанию пустая строка);\n",
    "pages - число страниц (целое число, по умолчанию 0);\n",
    "year - год издания (целое число, по умолчанию 0).\n",
    "\n",
    "Объявите в классе Book магический метод __setattr__ для проверки типов присваиваемых данных локальным свойствам title, author, pages и year. Если типы не соответствуют локальному атрибуту (например, title должна ссылаться на строку, а pages - на целое число), то генерировать исключение командой:\n",
    "```\n",
    "raise TypeError(\"Неверный тип присваиваемых данных.\")\n",
    "```\n",
    "Создайте в программе объект book класса Book для книги:\n",
    "\n",
    "автор: JK\n",
    "заголовок: OOP\n",
    "pages: 123\n",
    "year: 2022"
   ]
  },
  {
   "cell_type": "code",
   "execution_count": 12,
   "metadata": {
    "ExecuteTime": {
     "end_time": "2024-06-23T19:56:56.041432200Z",
     "start_time": "2024-06-23T19:56:56.036408300Z"
    }
   },
   "outputs": [
    {
     "name": "stdout",
     "output_type": "stream",
     "text": [
      "JK\n",
      "OOP\n",
      "123\n",
      "2022\n"
     ]
    }
   ],
   "source": [
    "class Book:\n",
    "    def __init__(self,title = \"\", author = \"\", pages = 0, year = 0):\n",
    "        self.title = title\n",
    "        self.author = author\n",
    "        self.pages = pages\n",
    "        self.year = year\n",
    "\n",
    "    def __setattr__(self, name, value):\n",
    "        types = {\n",
    "            'title': str,\n",
    "            'author': str,\n",
    "            'pages': int,\n",
    "            'year': int\n",
    "        }\n",
    "        if not isinstance(value, types[name]):\n",
    "            raise TypeError(\"Неверный тип присваиваемых данных.\")\n",
    "\n",
    "        super().__setattr__(name, value)\n",
    "\n",
    "\n",
    "attr4check = {\n",
    "    'title': 'JK',\n",
    "    'author': \"OOP\",\n",
    "    'pages': 123,\n",
    "    'year': 2022\n",
    "}\n",
    "\n",
    "book = Book()\n",
    "for name, value in attr4check.items():\n",
    "    setattr(book, name, value)\n",
    "\n",
    "print(book.title)\n",
    "print(book.author)\n",
    "print(book.pages)\n",
    "print(book.year)\n",
    "\n"
   ]
  },
  {
   "cell_type": "markdown",
   "source": [
    "# 2) call\n",
    "Объявите класс RandomPassword для генерации случайных паролей. Объекты этого класса должны создаваться командой:\n",
    "```\n",
    "rnd = RandomPassword(psw_chars, min_length, max_length)\n",
    "```\n",
    "где psw_chars - строка из разрешенных в пароле символов; min_length, max_length - минимальная и максимальная длина генерируемых паролей.\n",
    "\n",
    "Непосредственная генерация одного пароля должна выполняться командой:\n",
    "```\n",
    "psw = rnd()\n",
    "```\n",
    "где psw - ссылка на строку длиной в диапазоне [min_length; max_length] из случайно выбранных символов строки psw_chars.\n",
    "\n",
    "С помощью генератора списка (list comprehension) создайте список lst_pass из трех сгенерированных паролей объектом rnd класса RandomPassword, созданного с параметрами: \n",
    "```\n",
    "min_length = 5\n",
    "max_length = 20\n",
    "psw_chars = \"qwertyuiopasdfghjklzxcvbnm0123456789!@#$%&*\"\n",
    "```"
   ],
   "metadata": {
    "collapsed": false
   }
  },
  {
   "cell_type": "code",
   "execution_count": null,
   "metadata": {},
   "outputs": [],
   "source": [
    "import random\n",
    "\n",
    "class RandomPassword:\n",
    "    \n",
    "    def __init__(self, psw_chars:str, min_length:int, max_length:int):\n",
    "        self.psw_chars = psw_chars\n",
    "        self.min_length = min_length\n",
    "        self.max_length = max_length\n",
    "\n",
    "    def __call__(self) -> str:\n",
    "        pwd_length = random.randint(self.min_length, self.max_length)\n",
    "        pwd = ''.join(random.choice(self.psw_chars) for _ in range(pwd_length))\n",
    "        return pwd\n",
    "\n",
    "\n",
    "\n",
    "\n",
    "if __name__ == \"__main__\":\n",
    "    MIN_LENGTH = 50\n",
    "    MAX_LENGTH = 100\n",
    "    PSW_CHARS = \"qwertyuiopasdfghjklzxcvbnm0123456789!@#$%&*\"\n",
    "    rnd = RandomPassword(PSW_CHARS, MIN_LENGTH, MAX_LENGTH)\n",
    "    lst_pass = [rnd() for _ in range(3)]\n",
    "    print(lst_pass)"
   ]
  },
  {
   "attachments": {},
   "cell_type": "markdown",
   "metadata": {},
   "source": [
    "# 3) str\n",
    "Объявите класс с именем Book (книга), объекты которого создаются командой:\n",
    "```\n",
    "book = Book(title, author, pages)\n",
    "```\n",
    "где title - название книги (строка); author - автор книги (строка); pages - число страниц в книге (целое число).\n",
    "\n",
    "Также при выводе информации об объекте на экран командой:\n",
    "```\n",
    "print(book)\n",
    "```\n",
    "должна отображаться строчка в формате:\n",
    "\n",
    "\"Книга: {title}; {author}; {pages}\"\n",
    "\n",
    "Например:\n",
    "\n",
    "\"Книга: Муму; Тургенев; 123\"\n",
    "\n",
    "Прочитайте из входного потока строки с информацией по книге командой: (Входной поток представляем в виде списка сразу)\n",
    "```\n",
    "lst_in = ['Python', 'JK', '1024']\n",
    "#lst_in = list(map(str.strip, sys.stdin.readlines()))\n",
    "```\n",
    "(строки идут в порядке: title, author, pages). Создайте объект класса Book и выведите его строковое представление в консоль."
   ]
  },
  {
   "cell_type": "code",
   "execution_count": 14,
   "metadata": {
    "ExecuteTime": {
     "end_time": "2024-06-23T19:57:37.756357600Z",
     "start_time": "2024-06-23T19:57:37.749294600Z"
    }
   },
   "outputs": [
    {
     "name": "stdout",
     "output_type": "stream",
     "text": [
      "Книга: Python; JK; 1024\n"
     ]
    }
   ],
   "source": [
    "class Book:\n",
    "    def __init__(self, title:str, author:str, pages:int):\n",
    "        self.title = title\n",
    "        self.author = author\n",
    "        self.pages = pages\n",
    "\n",
    "    def __str__(self) -> str:\n",
    "        return f\"Книга: {self.title}; {self.author}; {self.pages}\"\n",
    "\n",
    "if __name__ == \"__main__\":\n",
    "    lst_in = ['Python', 'JK', '1024']  \n",
    "    #lst_in = list(map(str.strip, sys.stdin.readlines()))\n",
    "    \n",
    "    title, author, pages = lst_in  \n",
    "    \n",
    "    book = Book(title, author, int(pages))  \n",
    "    print(book) \n"
   ]
  },
  {
   "attachments": {},
   "cell_type": "markdown",
   "metadata": {},
   "source": [
    "# 4) \n",
    "Объявите класс WordString, объекты которого создаются командами:\n",
    "```\n",
    "w1 = WordString()\n",
    "w2 = WordString(string)\n",
    "```\n",
    "где string - передаваемая строка. Например:\n",
    "```\n",
    "words = WordString(\"Python ООП\")\n",
    "```\n",
    "Реализовать следующий функционал для объектов этого класса:\n",
    "\n",
    "len(words) - должно возвращаться число слов в переданной строке (слова разделяются одним или несколькими пробелами);\n",
    "\n",
    "words(indx) - должно возвращаться слово по его индексу (index - порядковый номер слова в строке, начиная с 0).\n",
    "\n",
    "Также в классе WordString реализовать объект-свойство (property):\n",
    "\n",
    "string - для передачи и считывания строки.\n",
    "\n",
    "Пример пользования классом WordString (эти строчки в программе писать не нужно):\n",
    "```\n",
    "words = WordString()\n",
    "words.string = \"Python ООП\"\n",
    "n = len(words)\n",
    "first = \"\" if n == 0 else words(0)\n",
    "print(words.string)\n",
    "print(f\"Число слов: {n}; первое слово: {first}\")\n",
    "```"
   ]
  },
  {
   "cell_type": "code",
   "execution_count": 10,
   "metadata": {
    "ExecuteTime": {
     "end_time": "2024-06-23T19:56:35.261983100Z",
     "start_time": "2024-06-23T19:56:35.257820300Z"
    }
   },
   "outputs": [
    {
     "name": "stdout",
     "output_type": "stream",
     "text": [
      "Python ООП\n",
      "Число слов: 2\n",
      "Первое слово: Python\n"
     ]
    }
   ],
   "source": [
    "class WordString:\n",
    "    def __init__(self, string:str=\"\"):\n",
    "        self._string = string\n",
    "\n",
    "    def __len__(self) -> int:\n",
    "        return len(self._string.split())\n",
    "\n",
    "    def __call__(self, index:int) -> list[int]:\n",
    "        words = self._string.split()\n",
    "        if 0 <= index < len(words):\n",
    "            return words[index]\n",
    "        else:\n",
    "            raise IndexError(\"Индекс вне диапазона\")\n",
    "\n",
    "    @property\n",
    "    def string(self) -> str:\n",
    "        return self._string\n",
    "\n",
    "    @string.setter\n",
    "    def string(self, value:str):\n",
    "        self._string = value\n",
    "\n",
    "if __name__ == \"__main__\":\n",
    "    words = WordString()\n",
    "    words.string = \"Python ООП\"\n",
    "    n = len(words)\n",
    "    first = \"\" if n == 0 else words(0)\n",
    "    print(f\"{words.string}\\n\"\n",
    "          f\"Число слов: {n}\\n\"\n",
    "          f\"Первое слово: {first}\")\n"
   ]
  },
  {
   "cell_type": "code",
   "outputs": [],
   "source": [],
   "metadata": {
    "collapsed": false
   }
  }
 ],
 "metadata": {
  "language_info": {
   "name": "python"
  },
  "orig_nbformat": 4,
  "kernelspec": {
   "name": "python3",
   "language": "python",
   "display_name": "Python 3 (ipykernel)"
  }
 },
 "nbformat": 4,
 "nbformat_minor": 2
}
